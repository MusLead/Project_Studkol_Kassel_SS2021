{
 "cells": [
  {
   "cell_type": "markdown",
   "metadata": {},
   "source": [
    "# Programmierprojekt (Agha M. Aslam T1(A))"
   ]
  },
  {
   "cell_type": "markdown",
   "metadata": {},
   "source": [
    "jika melihat ada sebuah kode yang tertulis seperti:\n",
    "a**nr**_alt = Aufgabe Nummer mit Alternativen Lösung"
   ]
  },
  {
   "cell_type": "code",
   "execution_count": 3,
   "metadata": {},
   "outputs": [],
   "source": [
    "from math import floor, e\n",
    "from random import randrange, uniform,random"
   ]
  },
  {
   "cell_type": "markdown",
   "metadata": {},
   "source": [
    "1. Schreibe eine Funktion, die als Input einen Integer „n“ hat und alle ungeraden Zahlen bis n aufsummiert und zurückgibt (also falls n ungerade: 1+3+5+... +n und falls n gerade 1+3+5+...+n-1)."
   ]
  },
  {
   "cell_type": "code",
   "execution_count": 5,
   "metadata": {},
   "outputs": [
    {
     "name": "stdout",
     "output_type": "stream",
     "text": [
      "n = 6\n",
      "Probe (Un/Folge : Sn/Reihe) = {1: 1, 3: 4, 5: 9}\n"
     ]
    },
    {
     "data": {
      "text/plain": [
       "9"
      ]
     },
     "execution_count": 5,
     "metadata": {},
     "output_type": "execute_result"
    }
   ],
   "source": [
    "def a1(n):\n",
    "    a = 0\n",
    "    probe = {}\n",
    "    if(n%2 == 0):\n",
    "        for i in range(1,n):\n",
    "            if(i%2 != 0):\n",
    "                a=a+i\n",
    "                probe[i] = a \n",
    "    else:\n",
    "        for i in range(1,n+1):\n",
    "            if(i%2 != 0):\n",
    "                a=a+i\n",
    "                probe[i] = a \n",
    "    print(f'Probe (Un/Folge : Sn/Reihe) = {probe}')\n",
    "    return a\n",
    "valA1 = int(input(\"n = \"))\n",
    "a1(valA1)"
   ]
  },
  {
   "cell_type": "markdown",
   "metadata": {},
   "source": [
    "2. Schreibe eine Funktion, die als Input einen Integer „n“ hat und einen String „operation“. Wenn der String operation „Summe“ ist, berechne die Summe 1+2+3+...+n und gebe sie zurück. Wenn die operation „Produkt“ ist, berechne das Produkt 1*2*3*...*n und gebe es zurück."
   ]
  },
  {
   "cell_type": "code",
   "execution_count": 6,
   "metadata": {},
   "outputs": [
    {
     "name": "stdout",
     "output_type": "stream",
     "text": [
      "n = 6\n",
      "Operation = summe\n"
     ]
    },
    {
     "data": {
      "text/plain": [
       "('Ergebnis = 21',\n",
       " 'Probe (Un/Folge : Sn/Reihe) = {1: 1, 2: 3, 3: 6, 4: 10, 5: 15, 6: 21}')"
      ]
     },
     "execution_count": 6,
     "metadata": {},
     "output_type": "execute_result"
    }
   ],
   "source": [
    "def a2(n, operation):\n",
    "    a = 0\n",
    "    b = 1\n",
    "    eVal = 1\n",
    "    probe = {}\n",
    "    if(operation == \"Summe\" or operation == \"summe\"):\n",
    "        for i in range(1,n+1):\n",
    "            a=a+i\n",
    "            probe[i] = a \n",
    "        eVal = a\n",
    "    elif(operation == \"Produkt\" or operation == \"produkt\"):\n",
    "        for i in range(1,n+1):\n",
    "            b=b*i\n",
    "            probe[i] = b \n",
    "        eVal = b\n",
    "    else:\n",
    "        eVal = 0\n",
    "    \n",
    "    s_probe = f'Probe (Un/Folge : Sn/Reihe) = {probe}'\n",
    "    s_eVal = f'Ergebnis = {eVal}'\n",
    "    return s_eVal, s_probe\n",
    "\n",
    "valA21 = int(input(\"n = \"))\n",
    "valA22 = input(\"Operation = \")\n",
    "a2(valA21, valA22)"
   ]
  },
  {
   "cell_type": "markdown",
   "metadata": {},
   "source": [
    "3. Schreibe eine Klasse „RateSpiel“ mit dem Attribut „Zahl“ und der Funktion „rate“, die als Input einen Integer „i“ besitzt. Schreibe dazu eine zusätzliche Methode „würfel“, die das Attribut „Zahl“ zu einer Zufallszahl (Integer) macht. Nun muss der Nutzer mit der Methode „rate“ die richtige Zahl erraten. Wenn diese zu klein ist (also kleiner als das Attribut „Zahl“), gebe den Text „Zu klein“ zurück. Wenn diese zu groß ist, gebe den Text „Zu groß“ zurück. Und wenn die Zahl richtig geraten wurde „Gewonnen!“."
   ]
  },
  {
   "cell_type": "code",
   "execution_count": null,
   "metadata": {},
   "outputs": [
    {
     "name": "stdout",
     "output_type": "stream",
     "text": [
      "mit einem Class RateSpiel() und Methode (würfel(random),rate(int input))\n"
     ]
    }
   ],
   "source": [
    "# PERTANYAAN! [dibawah V] TERJAWAB = (ALternativ 3)\n",
    "# a3\n",
    "class RateSpiel(object):\n",
    "    \n",
    "    def __init__(self, zahl, i):\n",
    "        self.zahl = zahl\n",
    "        self.i = i\n",
    "        \n",
    "    def __str__(self):\n",
    "        return f'Zahl: {self.zahl}, Vermutung: {self.i}'\n",
    "    \n",
    "    def würfel(self, other):\n",
    "        self.zahl = other\n",
    "        return self.zahl\n",
    "    \n",
    "    def rate(self, otheri):\n",
    "        self.i = otheri\n",
    "        return self.i\n",
    "    \n",
    "    def rateOps(self):\n",
    "        if self.zahl>self.i:\n",
    "            print(\"zu klein\")\n",
    "            return self.i\n",
    "        elif self.zahl<self.i:\n",
    "            print(\"zu Groß\")\n",
    "            return self.i\n",
    "        elif self.zahl == self.i:\n",
    "            print(\"Gewonnen!\")\n",
    "            return self.i\n",
    "\n",
    "print(f'mit einem Class RateSpiel() und Methode (würfel(random),rate(int input))')\n",
    "\n",
    "a3 = RateSpiel(0,0)\n",
    "a3w = f'{int(random()*100)}'\n",
    "a3.würfel(a3w) #<INGAT VALUE TYPE STRING \n",
    "\n",
    "#ALTERNATIV 3\n",
    "while (a3.würfel(a3w) != True):\n",
    "    a3r = input('Verrate die Zahl von 1 bis 10: ') #<INGAT by default VALUE TYPE STRING \n",
    "    a3.rate(a3r) #<INGAT VALUE TYPE STRING \n",
    "    a3.rateOps()\n",
    "    if(a3.würfel(a3w) == a3.rate(a3r)):\n",
    "        break\n",
    "    \n",
    "\n",
    "# nur Beispiel und Probe -------\n",
    "\n",
    "# a3.würfel(3)\n",
    "# a3.rate(3)\n",
    "# print(a3,\"\\n\")\n",
    "\n",
    "# a3.würfel(int(random()*10))\n",
    "# a3.rate(int(random()*10))\n",
    "# print(a3)\n",
    "# print(\"\")\n",
    "\n",
    "# nur Beispiel und Probe -------\n",
    "\n",
    "# a3w = input('gibt eine Zahl ein: ') #Probe!\n",
    "# a3r = \"\"\n",
    "\n",
    "# #ALTERNATIV 1\n",
    "# while (a3w != a3r):\n",
    "#     a3r = input('verrate mal die Zahl: ')\n",
    "#     a3.rate(a3r)\n",
    "#     print(a3) #Probe!\n",
    "\n",
    "# Bagaimana biar bisa berjalan dengan baik??? tanpa aku harus difinisi sebuah variable a3r diluar loop. apakah ada solusi lain?\n",
    "# ALTERNATIV 2\n",
    "# while (a3.würfel(a3w) != a3.rate(a3r)):\n",
    "#     a3r = input('verrate die Zahl: ')\n",
    "#     a3.rate(a3r)\n",
    "#     a3.rateOps()\n",
    "#     print(a3) #Probe!\n",
    "#     print(\"W =\", a3.würfel(a3w)) #Probe!\n",
    "#     print(\"R =\", a3.rate(a3r)) #Probe!"
   ]
  },
  {
   "cell_type": "markdown",
   "metadata": {},
   "source": [
    "###### "
   ]
  },
  {
   "cell_type": "markdown",
   "metadata": {},
   "source": [
    "4. Schreibe eine Funktion mit dem Integer „n“ als Input und dem Ergebnis des folgenden Ausdrucks als Rückgabe:\n",
    "𝑛\n",
    "∑e2∗i −3 𝑖=1"
   ]
  },
  {
   "cell_type": "code",
   "execution_count": 22,
   "metadata": {},
   "outputs": [
    {
     "data": {
      "text/plain": [
       "3434.373986666537"
      ]
     },
     "execution_count": 22,
     "metadata": {},
     "output_type": "execute_result"
    }
   ],
   "source": [
    "def a4(n):\n",
    "    sume = 0 \n",
    "    for i in range(1,n+1):\n",
    "        sume = sume + e**(2*i)-3\n",
    "    return sume\n",
    "a4(4)"
   ]
  },
  {
   "cell_type": "markdown",
   "metadata": {},
   "source": [
    "5. Schreibe eine Funktion mit dem Integer „n“ als Input und dem Ergebnis des folgenden Ausdrucks als Rückgabe:\n",
    "𝑛\n",
    "𝑖\n",
    "∏ √25 + 2\n",
    "𝑖=1"
   ]
  },
  {
   "cell_type": "code",
   "execution_count": 65,
   "metadata": {},
   "outputs": [
    {
     "data": {
      "text/plain": [
       "3942.2515598205637"
      ]
     },
     "execution_count": 65,
     "metadata": {},
     "output_type": "execute_result"
    }
   ],
   "source": [
    "def a5(n):\n",
    "    prod = 1 \n",
    "    for i in range(1,n+1):\n",
    "        prod *= (25**(1/i)+2)\n",
    "    return prod\n",
    "a5(4)"
   ]
  },
  {
   "cell_type": "markdown",
   "metadata": {},
   "source": [
    "6. Schreibe eine Funktion, die als Input eine Liste von Integern „zahlen“ besitzt und mithilfe einer for Schleife den Durchschnitt ausrechnet und wieder ausgibt.\n"
   ]
  },
  {
   "cell_type": "code",
   "execution_count": 19,
   "metadata": {},
   "outputs": [
    {
     "data": {
      "text/plain": [
       "'Total: 16 ; Lange der List: 5 ; Durchschnitt: 3.2'"
      ]
     },
     "execution_count": 19,
     "metadata": {},
     "output_type": "execute_result"
    }
   ],
   "source": [
    "def a6(zahlen):\n",
    "    total = 0\n",
    "    for i in zahlen:\n",
    "        total += i\n",
    "    durchschnitt = total/len(zahlen)\n",
    "    return f'Total: {total} ; Lange der List: {len(zahlen)} ; Durchschnitt: {durchschnitt}'\n",
    "a6([1,3,4,5,3])"
   ]
  },
  {
   "cell_type": "markdown",
   "metadata": {},
   "source": [
    "6. Schreibe eine Funktion, die als Input eine Liste von Integern „zahlen“ besitzt und mithilfe einer for Schleife den Durchschnitt ausrechnet und wieder ausgibt.\n",
    "\n"
   ]
  },
  {
   "cell_type": "code",
   "execution_count": 20,
   "metadata": {},
   "outputs": [
    {
     "data": {
      "text/plain": [
       "'Array = [1, 3, 4, 5, 3, 5, 8, 9, 4, 8, 9, 5, 2]; Total: 66 ; Lange der List: 13 ; Durchschnitt: 5.076923076923077'"
      ]
     },
     "execution_count": 20,
     "metadata": {},
     "output_type": "execute_result"
    }
   ],
   "source": [
    "def a6_alt1(zahlen):\n",
    "# interger diubah kedalam list\n",
    "    listDef = []\n",
    "    while (zahlen > 0):\n",
    "        letzteziffer = zahlen % 10\n",
    "        listDef.append(letzteziffer)\n",
    "        zahlen = int(zahlen/10)\n",
    "    \n",
    "    listDef.reverse()\n",
    "\n",
    "# list di tambah dan di rata-rata    \n",
    "    total = 0\n",
    "    for i in listDef:\n",
    "        total += i\n",
    "    durchschnitt = total/len(listDef)\n",
    "    return f'Array = {listDef}; Total: {total} ; Lange der List: {len(listDef)} ; Durchschnitt: {durchschnitt}'\n",
    "a6_alt1(1345358948952)"
   ]
  },
  {
   "cell_type": "markdown",
   "metadata": {},
   "source": [
    "7. Schreibe eine Funktion, die als Input eine Liste von Integern „zahlen“ besitzt und ein neues Array mit allen Elementen an geraden Positionen (also an den Positionen 0,2,4 etc.) zurückgibt."
   ]
  },
  {
   "cell_type": "code",
   "execution_count": 21,
   "metadata": {},
   "outputs": [
    {
     "data": {
      "text/plain": [
       "[2, 4, 4, 2, 4, 2, 8, 6, 2, 4, 8, 4, 6, 8, 0, 0, 2]"
      ]
     },
     "execution_count": 21,
     "metadata": {},
     "output_type": "execute_result"
    }
   ],
   "source": [
    "def a7_alt(zahlen):\n",
    " # interger diubah kedalam list\n",
    "    listDef = []\n",
    "    while (zahlen > 0):\n",
    "        letzteziffer = zahlen % 10\n",
    "        listDef.append(letzteziffer)\n",
    "        zahlen = int(zahlen/10)\n",
    "    \n",
    "    listDef.reverse()\n",
    "    \n",
    "    gerade = []\n",
    "    for i in listDef:\n",
    "        if(i%2 == 0):\n",
    "            gerade.append(i)\n",
    "    return gerade\n",
    "\n",
    "a7_alt(13241341234523876728346592)"
   ]
  },
  {
   "cell_type": "markdown",
   "metadata": {},
   "source": [
    "8. Schreibe eine Funktion, die als Input zwei Listen von Integern „a“ und „b“ besitzt und ein neues Array zurückgibt, wobei sich die Elemente aus a und b abwechseln. Beispiel: [10,20,30], [1,2,3] → [10,1,20,2,30,3]."
   ]
  },
  {
   "cell_type": "code",
   "execution_count": 25,
   "metadata": {},
   "outputs": [
    {
     "data": {
      "text/plain": [
       "[1, 7, 2, 9, 3, 6, 4, 0, 6, 6]"
      ]
     },
     "execution_count": 25,
     "metadata": {},
     "output_type": "execute_result"
    }
   ],
   "source": [
    "# PERTANYAAN! TERJAWAB\n",
    "# Kalau panjangnya berbeda apakah ada rumus lainnya? JAWAB: ADA, DIBAWAH! a8_alt!\n",
    "def a8(a,b):\n",
    "    neuList = []\n",
    "#   VORAUSSETZUNG: LIST  a = LIST b\n",
    "    if(len(a)==len(b)):\n",
    "        for i in range(0, len(a)):\n",
    "                neuList.append(a[i])\n",
    "                neuList.append(b[i])\n",
    "        return neuList\n",
    "    else:\n",
    "        return f'Die Länge (Index) müssen gleich sein'\n",
    "a8([1,2,3,4,6],[7,9,6,0,6])"
   ]
  },
  {
   "cell_type": "markdown",
   "metadata": {},
   "source": [
    "http://pythontutor.com/visualize.html#code=def%20a8%28a,b%29%3A%0A%20%20%20%20neuListTemp%20%3D%20a%2Bb%0A%20%20%20%20neuList%20%3D%5B%5D%0A%20%20%20%20for%20sat%20in%20range%280,%20len%28neuListTemp%29%29%3A%0A%20%20%20%20%20%20%20%20lenb%20%3D%20len%28b%29%0A%20%20%20%20%20%20%20%20lena%20%3D%20len%28a%29%0A%20%20%20%20%20%20%20%20totTemp%20%3D%20len%28neuListTemp%29%0A%20%20%20%20%20%20%20%20if%28len%28a%29%3C%3Dlen%28b%29%29%3A%0A%20%20%20%20%20%20%20%20%20%20%20%20if%28sat%3Clen%28a%29%29%3A%0A%20%20%20%20%20%20%20%20%20%20%20%20%20%20%20%20neuList.append%28a%5Bsat%5D%29%0A%20%20%20%20%20%20%20%20%20%20%20%20%20%20%20%20neuList.append%28neuListTemp%5Bsat%2Blen%28a%29%5D%29%20%20%0A%20%20%20%20%20%20%20%20%20%20%20%20elif%28sat%3Clen%28b%29%29%3A%0A%20%20%20%20%20%20%20%20%20%20%20%20%20%20%20%20neuList.append%28neuListTemp%5Bsat%2Blen%28a%29%5D%29%0A%20%20%20%20%20%20%20%20%20%20%20%20else%3A%0A%20%20%20%20%20%20%20%20%20%20%20%20%20%20%20%20break%0A%20%20%20%20%20%20%20%20elif%28len%28a%29%3Elen%28b%29%29%3A%0A%20%20%20%20%20%20%20%20%20%20%20%20if%28sat%3Clen%28b%29%29%3A%0A%20%20%20%20%20%20%20%20%20%20%20%20%20%20%20%20neuList.append%28a%5Bsat%5D%29%0A%20%20%20%20%20%20%20%20%20%20%20%20%20%20%20%20neuList.append%28neuListTemp%5Bsat%2Blen%28a%29%5D%29%20%20%0A%20%20%20%20%20%20%20%20%20%20%20%20elif%28sat%3Clen%28a%29%29%3A%0A%20%20%20%20%20%20%20%20%20%20%20%20%20%20%20%20neuList.append%28neuListTemp%5Bsat%5D%29%0A%20%20%20%20%20%20%20%20%20%20%20%20else%3A%0A%20%20%20%20%20%20%20%20%20%20%20%20%20%20%20%20break%0A%20%20%20%20return%20neuList%0Aa8%28%5B1,2,3,4,5,6%5D,%5B7,8,9,10%5D%29&cumulative=false&curInstr=70&heapPrimitives=nevernest&mode=display&origin=opt-frontend.js&py=3&rawInputLstJSON=%5B%5D&textReferences=false"
   ]
  },
  {
   "cell_type": "code",
   "execution_count": 50,
   "metadata": {},
   "outputs": [
    {
     "data": {
      "text/plain": [
       "[1, 7, 2, 8, 3, 9, 4, 10, 5, 6]"
      ]
     },
     "execution_count": 50,
     "metadata": {},
     "output_type": "execute_result"
    }
   ],
   "source": [
    "def a8_alt(a,b):\n",
    "    neuListTemp = a+b\n",
    "    neuList =[]\n",
    "    for sat in range(0, len(neuListTemp)):\n",
    "        if(len(a)<=len(b)):\n",
    "            if(sat<len(a)):\n",
    "                neuList.append(a[sat])\n",
    "                neuList.append(neuListTemp[sat+len(a)])  \n",
    "            elif(sat<len(b)):\n",
    "                neuList.append(neuListTemp[sat+len(a)])\n",
    "            else:\n",
    "                break\n",
    "        elif(len(a)>len(b)):\n",
    "            if(sat<len(b)):\n",
    "                neuList.append(a[sat])\n",
    "                neuList.append(neuListTemp[sat+len(a)])  \n",
    "            elif(sat<len(a)):\n",
    "                neuList.append(neuListTemp[sat])\n",
    "            else:\n",
    "                break\n",
    "    return neuList\n",
    "a8_alt([1,2,3,4,5,6],[7,8,9,10])"
   ]
  },
  {
   "cell_type": "markdown",
   "metadata": {},
   "source": [
    "9. Schreibe eine Funktion, die als Input eine Liste von Integern „zahlen“ besitzt und die zwei größten Elemente des Arrays zurückgibt."
   ]
  },
  {
   "cell_type": "code",
   "execution_count": 23,
   "metadata": {},
   "outputs": [
    {
     "data": {
      "text/plain": [
       "[44, 33]"
      ]
     },
     "execution_count": 23,
     "metadata": {},
     "output_type": "execute_result"
    }
   ],
   "source": [
    "def a9(zahlen):\n",
    "    neuList = []\n",
    "    zahlen.sort()\n",
    "    zahlen.reverse()\n",
    "    neuList.append(zahlen[0])\n",
    "    neuList.append(zahlen[1])\n",
    "    return neuList\n",
    "a9([4,23,4,5,33,5,44])"
   ]
  },
  {
   "cell_type": "markdown",
   "metadata": {},
   "source": [
    "10. Schreibe eine Funktion, die als Input einen String „Satz“ mit zwei Wörtern besitzt und zurückgibt, ob beide Wörter mit dem gleichen Buchstaben beginnen. Beispiel:\n",
    "„Hallo Hier“ -> True, „Hallo Da“ -> False"
   ]
  },
  {
   "cell_type": "code",
   "execution_count": 24,
   "metadata": {},
   "outputs": [
    {
     "data": {
      "text/plain": [
       "True"
      ]
     },
     "execution_count": 24,
     "metadata": {},
     "output_type": "execute_result"
    }
   ],
   "source": [
    "def a10(string):\n",
    "    # krn String adalah kumpulan alphabet atau array alphabet maka\n",
    "    word = string.split()\n",
    "    char1 = list(word[0])\n",
    "    char2 = list(word[1])\n",
    "    if(char1[0] == char2[0]):\n",
    "        return True\n",
    "    else:\n",
    "        return False\n",
    "a10(\"Hallo Horld\")"
   ]
  },
  {
   "cell_type": "markdown",
   "metadata": {},
   "source": [
    "11. Schreibe eine Funktion mit dem Input String „Satz“,\n",
    "die den Satz in umgekehrter Reihenfolge zurückgibt.\n",
    "Beispiel: Informatik ist toll -> toll ist Informatik"
   ]
  },
  {
   "cell_type": "code",
   "execution_count": 23,
   "metadata": {},
   "outputs": [
    {
     "data": {
      "text/plain": [
       "'안녕하세요, 저 는 아가 입니다'"
      ]
     },
     "execution_count": 23,
     "metadata": {},
     "output_type": "execute_result"
    }
   ],
   "source": [
    "def a11(string):\n",
    "    # krn String adalah kumpulan alphabet atau array alphabet maka\n",
    "    word = string.split()\n",
    "    word.reverse()\n",
    "    satz = \" \".join(word)\n",
    "    return satz\n",
    "a11(\"입니다 아가 는 저 안녕하세요,\")"
   ]
  },
  {
   "cell_type": "markdown",
   "metadata": {},
   "source": [
    "12. Schreibe eine Funktion, die als Input eine Liste von\n",
    "Integern „a“ und einen Integer „n“ besitzt und zurück gibt,\n",
    "wieviele Elemente in a kleiner als n sind."
   ]
  },
  {
   "cell_type": "code",
   "execution_count": 5,
   "metadata": {},
   "outputs": [
    {
     "data": {
      "text/plain": [
       "'Die Anzahl von [1, 2, 3, 4, 1, 2, 3, 1, 2, 3, 5, 1, 5, 1, 2, 3] kleiner als 4 ist 12'"
      ]
     },
     "execution_count": 5,
     "metadata": {},
     "output_type": "execute_result"
    }
   ],
   "source": [
    "# PERTANYAAN: TERJAWAB!\n",
    "# 1. kalau ada banya angka n dan mereka juga ada yang paling kecil dari a , maka nilai dari operasi ini 0?\n",
    "# 2. apakah harus jumlah (bukan total) setiap dari Listnya harus sama?\n",
    "# jawab 28.04.2021: (list a, int n)!\n",
    "\n",
    "def a12(a,n):\n",
    "    \n",
    "    listDef = []\n",
    "    while (a > 0):\n",
    "        letzteziffer = a % 10\n",
    "        listDef.append(letzteziffer)\n",
    "        a = int(a/10)\n",
    "    \n",
    "    listDef.reverse()\n",
    "    \n",
    "    anzahl = 0\n",
    "    for i in listDef:\n",
    "        if(listDef[i]<n):\n",
    "            anzahl += 1\n",
    "    return f'Die Anzahl von {listDef} kleiner als {n} ist {anzahl}'\n",
    "\n",
    "a12(1234123123515123,4)"
   ]
  },
  {
   "cell_type": "markdown",
   "metadata": {},
   "source": [
    "13. Schreibe eine Funktion „Begruessung“ mit dem Input\n",
    "„Name“, „Geschlecht“ und „Alter“. Gebe dann eine passende Begrüßung zurück. Mache folgende Fallunterscheidung:\n",
    "- wenn Geschlecht weiblich: „Guten Tag Frau <Name>“\n",
    "- wenn Geschlecht männlich: „Guten Tag Herr <Name>“\n",
    "- wenn Alter unter 18: „Hallo <Name>“"
   ]
  },
  {
   "cell_type": "code",
   "execution_count": 3,
   "metadata": {},
   "outputs": [
    {
     "name": "stdout",
     "output_type": "stream",
     "text": [
      "Name: Fulan\n",
      "Geschlecht: m\n",
      "Alter: 100\n"
     ]
    },
    {
     "data": {
      "text/plain": [
       "'Guten Tag, Herr Fulan'"
      ]
     },
     "execution_count": 3,
     "metadata": {},
     "output_type": "execute_result"
    }
   ],
   "source": [
    "def a13(name, geschlecht, alter):\n",
    "    if(alter>18):\n",
    "        if(geschlecht == \"weiblich\" or geschlecht == \"w\"):\n",
    "            return f\"Guten Tag, Frau {name}\"\n",
    "        elif(geschlecht == \"männlich\" or geschlecht == \"m\"):\n",
    "            return f\"Guten Tag, Herr {name}\"\n",
    "        else:\n",
    "            return f'sorry, falsche Angabe. Versuchen Sie noch mal'\n",
    "    elif(alter<18):\n",
    "        return f'Hallo, {name}'\n",
    "    else:\n",
    "        return f'sorry, falsche Angabe. Versuchen Sie noch mal'\n",
    "\n",
    "n = input(\"Name: \")\n",
    "g = input(\"Geschlecht: \")\n",
    "a = int(input(\"Alter: \"))\n",
    "a13(n,g,a)"
   ]
  },
  {
   "cell_type": "markdown",
   "metadata": {},
   "source": [
    "14. Schreibe ein Programm, das die Zahlen von 1 bis 100 ausgibt. Wenn eine Zahl durch 3 teilbar ist, soll nicht die Zahl, sondern „foo“ ausgegeben werden. Wenn die Zahl durch 5 teilbar ist, gebe „bar“ aus. Wenn die Zahl durch 3 und 5 teilbar ist, gebe „foobar“ aus."
   ]
  },
  {
   "cell_type": "code",
   "execution_count": 28,
   "metadata": {},
   "outputs": [
    {
     "name": "stdout",
     "output_type": "stream",
     "text": [
      "[32, 'foobar', 46, 68, 56, 'bar', 16, 89, 8, 'bar', 98, 76, 86, 13, 76, 'foo', 53, 'bar', 44, 11, 16, 26, 19, 11, 73, 'bar', 'bar', 28, 'bar', 'foobar', 2, 64, 31, 'foo', 88, 56, 'bar', 61, 11, 79, 'foo', 'foo', 'bar', 'foo', 77, 4, 82, 'foo', 'foobar', 'bar', 'foo', 'foo', 76, 56, 'foo', 43, 79, 'foo', 'foo', 'bar', 'bar', 88, 16, 'bar', 38, 29, 91, 34, 'foo', 61, 53, 'foo', 46, 'bar', 'bar', 19, 16, 34, 'foo', 61, 2, 44, 13, 76, 2, 'foo', 'foo', 'bar', 89, 'foo', 74, 94, 'foobar', 88, 77, 98, 91, 'foobar', 17, 98]\n"
     ]
    }
   ],
   "source": [
    "a14 = []\n",
    "for i in range(1,101):\n",
    "    temp = int(random()*100)\n",
    "    if(temp%3 == 0 and temp%5 == 0):\n",
    "        a14.append(\"foobar\")\n",
    "    elif(temp%3 == 0):\n",
    "        a14.append(\"foo\")\n",
    "    elif(temp%5 == 0):\n",
    "        a14.append(\"bar\")\n",
    "    else:\n",
    "        a14.append(temp)\n",
    "print(a14)"
   ]
  },
  {
   "cell_type": "markdown",
   "metadata": {},
   "source": [
    "15. Schreibe eine Funktion, die die Quersumme eines Integer berechnet. Nehme dafür die Modulo Operation (%10) zur Hilfe."
   ]
  },
  {
   "cell_type": "code",
   "execution_count": 120,
   "metadata": {},
   "outputs": [
    {
     "data": {
      "text/plain": [
       "23"
      ]
     },
     "execution_count": 120,
     "metadata": {},
     "output_type": "execute_result"
    }
   ],
   "source": [
    "def a15(izahl):\n",
    "    quersumme = 0 \n",
    "    \n",
    "    while (izahl > 0):\n",
    "        letzteziffer = izahl % 10\n",
    "        quersumme = quersumme + letzteziffer\n",
    "        izahl = int(izahl/10)\n",
    "    \n",
    "    return int(quersumme)\n",
    "a15(234311234)"
   ]
  },
  {
   "cell_type": "markdown",
   "metadata": {},
   "source": [
    "16. Schreibe eine Funktion, die für einen beliebigen Integer bestimmt, ob der Integer eine Primzahl ist. Die Ausgabe soll „true“ sein, wenn die Zahl eine Primzahl ist. Sonst „false“."
   ]
  },
  {
   "cell_type": "code",
   "execution_count": 217,
   "metadata": {},
   "outputs": [
    {
     "data": {
      "text/plain": [
       "True"
      ]
     },
     "execution_count": 217,
     "metadata": {},
     "output_type": "execute_result"
    }
   ],
   "source": [
    "# pertanyaan: konsep modulus i itu seperti apa? seperti apa gambaran konsepnya coba gambarkan di python tutor!\n",
    "# Coba buat simulasi kalau belum paham dengan modulus zahl%i yang ada!\n",
    "def a16(zahl):\n",
    "    if zahl <= 1:\n",
    "        return False\n",
    "    for i in range(2,zahl):\n",
    "        if (zahl%i == 0):\n",
    "            return False\n",
    "    return True\n",
    "\n",
    "a16(29)"
   ]
  },
  {
   "cell_type": "markdown",
   "metadata": {},
   "source": [
    "17. Schreibe eine for-Schleifen innerhalb einer for- Schleife, um das kleine Einmaleins (also alle Multiplikationen der Zahlen von 1 bis 10 miteinander) auszugeben. Die Ausgabe soll folgendermaßen aussehen:\n",
    "1 x1=1 1 x2=2 ...\n",
    "2 x1=2 2 x2=4 ...\n",
    "10 x 9 = 90 10 x 10 = 100"
   ]
  },
  {
   "cell_type": "code",
   "execution_count": 219,
   "metadata": {},
   "outputs": [
    {
     "name": "stdout",
     "output_type": "stream",
     "text": [
      "1x1=1\n",
      "1x2=2\n",
      "1x3=3\n",
      "1x4=4\n",
      "1x5=5\n",
      "1x6=6\n",
      "1x7=7\n",
      "1x8=8\n",
      "1x9=9\n",
      "1x10=10\n",
      "\n",
      "2x1=2\n",
      "2x2=4\n",
      "2x3=6\n",
      "2x4=8\n",
      "2x5=10\n",
      "2x6=12\n",
      "2x7=14\n",
      "2x8=16\n",
      "2x9=18\n",
      "2x10=20\n",
      "\n",
      "3x1=3\n",
      "3x2=6\n",
      "3x3=9\n",
      "3x4=12\n",
      "3x5=15\n",
      "3x6=18\n",
      "3x7=21\n",
      "3x8=24\n",
      "3x9=27\n",
      "3x10=30\n",
      "\n",
      "4x1=4\n",
      "4x2=8\n",
      "4x3=12\n",
      "4x4=16\n",
      "4x5=20\n",
      "4x6=24\n",
      "4x7=28\n",
      "4x8=32\n",
      "4x9=36\n",
      "4x10=40\n",
      "\n",
      "5x1=5\n",
      "5x2=10\n",
      "5x3=15\n",
      "5x4=20\n",
      "5x5=25\n",
      "5x6=30\n",
      "5x7=35\n",
      "5x8=40\n",
      "5x9=45\n",
      "5x10=50\n",
      "\n",
      "6x1=6\n",
      "6x2=12\n",
      "6x3=18\n",
      "6x4=24\n",
      "6x5=30\n",
      "6x6=36\n",
      "6x7=42\n",
      "6x8=48\n",
      "6x9=54\n",
      "6x10=60\n",
      "\n",
      "7x1=7\n",
      "7x2=14\n",
      "7x3=21\n",
      "7x4=28\n",
      "7x5=35\n",
      "7x6=42\n",
      "7x7=49\n",
      "7x8=56\n",
      "7x9=63\n",
      "7x10=70\n",
      "\n",
      "8x1=8\n",
      "8x2=16\n",
      "8x3=24\n",
      "8x4=32\n",
      "8x5=40\n",
      "8x6=48\n",
      "8x7=56\n",
      "8x8=64\n",
      "8x9=72\n",
      "8x10=80\n",
      "\n",
      "9x1=9\n",
      "9x2=18\n",
      "9x3=27\n",
      "9x4=36\n",
      "9x5=45\n",
      "9x6=54\n",
      "9x7=63\n",
      "9x8=72\n",
      "9x9=81\n",
      "9x10=90\n",
      "\n",
      "10x1=10\n",
      "10x2=20\n",
      "10x3=30\n",
      "10x4=40\n",
      "10x5=50\n",
      "10x6=60\n",
      "10x7=70\n",
      "10x8=80\n",
      "10x9=90\n",
      "10x10=100\n",
      "\n"
     ]
    }
   ],
   "source": [
    "a17 = \"\"\n",
    "for i in range(1,11):\n",
    "    for j in range(1,11):\n",
    "        print(f'{i}x{j}={i*j}')\n",
    "    print(\"\")"
   ]
  },
  {
   "cell_type": "markdown",
   "metadata": {},
   "source": [
    "# Creativity Lab"
   ]
  },
  {
   "cell_type": "code",
   "execution_count": 130,
   "metadata": {},
   "outputs": [
    {
     "data": {
      "text/plain": [
       "[2, 3, 4, 3, 1, 1, 2, 3, 4]"
      ]
     },
     "execution_count": 130,
     "metadata": {},
     "output_type": "execute_result"
    }
   ],
   "source": [
    "# Kumpulan Interger ke list\n",
    "def aspecial(izahl):\n",
    "    listDef = []\n",
    "    \n",
    "    while (izahl > 0):\n",
    "        letzteziffer = izahl % 10\n",
    "        listDef.append(letzteziffer)\n",
    "        izahl = int(izahl/10)\n",
    "    \n",
    "    listDef.reverse()\n",
    "    return listDef\n",
    "aspecial(234311234)"
   ]
  },
  {
   "cell_type": "code",
   "execution_count": null,
   "metadata": {},
   "outputs": [],
   "source": [
    "# PERTANYAAN: untuk range() mengapa harus n-1 kenapa gak bisa 0-100 itu 0-100 daripada 0-100 sama dengan 0-99"
   ]
  },
  {
   "cell_type": "markdown",
   "metadata": {},
   "source": [
    "https://stackoverflow.com/questions/17524673/understanding-the-modulus-operator\n",
    "\n",
    "https://youtu.be/b5cb_nfDyyM\n",
    "\n",
    "Aufgabe 15: https://youtu.be/lkj-AvfCYns\n",
    "\n",
    "Aufgabe 16: https://youtu.be/1VimVdoI28c"
   ]
  },
  {
   "cell_type": "markdown",
   "metadata": {},
   "source": [
    "(a % b = a - floor(a/b)*b)\n",
    "Ketika a<b, maka nilai dari a%b = a. Karena floor(a/b)*b ketika a<b (a/b menghasilkan 0,...) maka operasi tersebut pasti menghasilkan nilai  0.\n",
    "\n",
    "2%5\n",
    "ibarat ada dua appel dan ada jaring yang dapat memuat 5 apel dalam satu jaring.Ketika jumalah apel yang diambil sama dengan maksimal kapasitas jaring maka dia dihitung 0 (full). ketika jumlah apel yang diambil kurang dari maksimal kapasitas jaring maka dihitung sesuai dengan jumlah apel yang ada.\n",
    "\n",
    "maka dari itu karena dalam satu jaring hanya mengambil 2 apel, maka hasil dari operasi tersebut adalah 2."
   ]
  },
  {
   "cell_type": "code",
   "execution_count": 151,
   "metadata": {},
   "outputs": [
    {
     "data": {
      "text/plain": [
       "2"
      ]
     },
     "execution_count": 151,
     "metadata": {},
     "output_type": "execute_result"
    }
   ],
   "source": [
    "a = [1,2,3,5,62]\n",
    "a[1]"
   ]
  },
  {
   "cell_type": "code",
   "execution_count": 169,
   "metadata": {},
   "outputs": [
    {
     "name": "stdout",
     "output_type": "stream",
     "text": [
      "['w', 'o', 'r', 'd']\n"
     ]
    }
   ],
   "source": [
    "word = \"word\"\n",
    "list_of_letters = list(word)\n",
    "print(list_of_letters)"
   ]
  },
  {
   "cell_type": "code",
   "execution_count": 52,
   "metadata": {},
   "outputs": [
    {
     "data": {
      "text/plain": [
       "[1, 2, 3, 4, 2, 2, 1, 5, 3, 6, 4, 6, 8, 4, 32, 13, 5, 6, 7, 8]"
      ]
     },
     "execution_count": 52,
     "metadata": {},
     "output_type": "execute_result"
    }
   ],
   "source": [
    "tryS = [1,5,3,6,4,6,8,4,32,13,5,6,7,8]\n",
    "erg =[1,2,3,4,2,2]\n",
    "erg2 = erg + tryS\n",
    "for i in range(0,len(tryS),2):\n",
    "    erg.append(tryS[i])\n",
    "erg2"
   ]
  },
  {
   "cell_type": "markdown",
   "metadata": {},
   "source": [
    "# Aufgabe 4 von Vorlesung 7 (Erklärung im Vorlesung 8)"
   ]
  },
  {
   "cell_type": "code",
   "execution_count": 21,
   "metadata": {},
   "outputs": [
    {
     "name": "stdout",
     "output_type": "stream",
     "text": [
      "1 Sonne\n"
     ]
    }
   ],
   "source": [
    "zz = random()*10\n",
    "if (zz<=3):\n",
    "    print(int(zz),\"Sonne\")\n",
    "elif(zz>=3 and zz<=6):\n",
    "    print(int(zz),\"Regen\")\n",
    "elif(zz>=6):\n",
    "    print(int(zz),\"Bewölkt\")"
   ]
  },
  {
   "cell_type": "code",
   "execution_count": null,
   "metadata": {},
   "outputs": [],
   "source": []
  },
  {
   "cell_type": "code",
   "execution_count": null,
   "metadata": {},
   "outputs": [],
   "source": []
  },
  {
   "cell_type": "code",
   "execution_count": null,
   "metadata": {},
   "outputs": [],
   "source": []
  },
  {
   "cell_type": "code",
   "execution_count": null,
   "metadata": {},
   "outputs": [],
   "source": []
  }
 ],
 "metadata": {
  "kernelspec": {
   "display_name": "Python 3",
   "language": "python",
   "name": "python3"
  },
  "language_info": {
   "codemirror_mode": {
    "name": "ipython",
    "version": 3
   },
   "file_extension": ".py",
   "mimetype": "text/x-python",
   "name": "python",
   "nbconvert_exporter": "python",
   "pygments_lexer": "ipython3",
   "version": "3.8.5"
  }
 },
 "nbformat": 4,
 "nbformat_minor": 4
}
